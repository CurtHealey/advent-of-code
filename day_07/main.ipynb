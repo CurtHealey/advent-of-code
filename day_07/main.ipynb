{
 "cells": [
  {
   "cell_type": "markdown",
   "metadata": {},
   "source": [
    "## Packages"
   ]
  },
  {
   "cell_type": "code",
   "execution_count": null,
   "metadata": {},
   "outputs": [],
   "source": [
    "import numpy as np\n",
    "import pandas as pd"
   ]
  },
  {
   "cell_type": "markdown",
   "metadata": {},
   "source": [
    "## Part One"
   ]
  },
  {
   "cell_type": "code",
   "execution_count": null,
   "metadata": {},
   "outputs": [],
   "source": [
    "data = pd.read_csv('test.csv')\n",
    "data['best_position'] = data['position'].median()\n",
    "data['difference_from_best_position'] = data['position']-data['best_position']\n",
    "fuel_consumed = data['difference_from_best_position'].abs().sum()\n",
    "fuel_consumed"
   ]
  },
  {
   "cell_type": "markdown",
   "metadata": {},
   "source": [
    "## Part Two"
   ]
  },
  {
   "cell_type": "code",
   "execution_count": null,
   "metadata": {},
   "outputs": [],
   "source": [
    "\n",
    "class CalculateFuelConsumed:\n",
    "    def __init__(self, data) -> None:\n",
    "        self.data = data\n",
    "\n",
    "    def calculateFuelConsumed(self, position): \n",
    "        self.data['proposed_position'] = position\n",
    "        self.data['difference_from_proposed_position'] = self.data['position'] - self.data['proposed_position']\n",
    "        self.data['difference_from_proposed_position'] = self.data['difference_from_proposed_position'].abs()\n",
    "        self.data['sum_from_proposed_position'] = ((self.data['difference_from_proposed_position'])*(self.data['difference_from_proposed_position'] +1))/2\n",
    "        fuel_consumed = int(self.data['sum_from_proposed_position'].sum())\n",
    "        return fuel_consumed\n",
    "\n",
    "    def ObtainMaxPosition (self): \n",
    "        return int(data['position'].max())\n",
    "\n",
    "calculate = CalculateFuelConsumed(pd.read_csv('test.csv'))\n",
    "vCalculateFuelConsumed = np.vectorize(calculate.calculateFuelConsumed)\n",
    "\n",
    "max_position = calculate.ObtainMaxPosition()\n",
    "x = np.linspace(0, max_position, max_position+1)\n",
    "y = vCalculateFuelConsumed(x)\n",
    "minimum_fuel_consumed = np.min(y)\n",
    "minimum_fuel_consumed"
   ]
  }
 ],
 "metadata": {
  "interpreter": {
   "hash": "949777d72b0d2535278d3dc13498b2535136f6dfe0678499012e853ee9abcab1"
  },
  "kernelspec": {
   "display_name": "Python 3.9.4 64-bit",
   "language": "python",
   "name": "python3"
  },
  "language_info": {
   "codemirror_mode": {
    "name": "ipython",
    "version": 3
   },
   "file_extension": ".py",
   "mimetype": "text/x-python",
   "name": "python",
   "nbconvert_exporter": "python",
   "pygments_lexer": "ipython3",
   "version": "3.9.4"
  },
  "orig_nbformat": 4
 },
 "nbformat": 4,
 "nbformat_minor": 2
}
