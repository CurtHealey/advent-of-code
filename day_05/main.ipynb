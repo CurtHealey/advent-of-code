{
 "cells": [
  {
   "cell_type": "markdown",
   "metadata": {},
   "source": [
    "## Packages"
   ]
  },
  {
   "cell_type": "code",
   "execution_count": null,
   "metadata": {},
   "outputs": [],
   "source": [
    "import numpy as np\n",
    "import pandas as pd"
   ]
  },
  {
   "cell_type": "markdown",
   "metadata": {},
   "source": [
    "## Data Formatting"
   ]
  },
  {
   "cell_type": "code",
   "execution_count": null,
   "metadata": {},
   "outputs": [],
   "source": [
    "\n",
    "data = pd.read_csv('test.csv', sep = \" \")\n",
    "data = data.drop(columns='arrow')\n",
    "\n",
    "initial_position = data['initial'].str.split(\",\", expand=True)\n",
    "initial_position = initial_position.rename(columns= {0: \"x_initial\", 1: \"y_initial\" })\n",
    "\n",
    "final_position = data['final'].str.split(\",\", expand=True)\n",
    "final_position = final_position.rename(columns= {0: \"x_final\", 1: \"y_final\" })\n",
    "\n",
    "data_formatted = pd.concat([initial_position, final_position], axis = 1)"
   ]
  },
  {
   "cell_type": "code",
   "execution_count": 30,
   "metadata": {},
   "outputs": [
    {
     "name": "stderr",
     "output_type": "stream",
     "text": [
      "/Users/curthealey/advent-of-code/env/lib/python3.9/site-packages/pandas/core/frame.py:3641: SettingWithCopyWarning: \n",
      "A value is trying to be set on a copy of a slice from a DataFrame.\n",
      "Try using .loc[row_indexer,col_indexer] = value instead\n",
      "\n",
      "See the caveats in the documentation: https://pandas.pydata.org/pandas-docs/stable/user_guide/indexing.html#returning-a-view-versus-a-copy\n",
      "  self[k1] = value[k2]\n"
     ]
    },
    {
     "data": {
      "text/plain": [
       "20"
      ]
     },
     "execution_count": 30,
     "metadata": {},
     "output_type": "execute_result"
    }
   ],
   "source": [
    "data_formatted['flag_horizontal'] = (data_formatted['x_initial'] == data_formatted['x_final']) | (data_formatted['y_initial'] == data_formatted['y_final'])\n",
    "data_formatted['flag_horizontal'] = data_formatted['flag_horizontal'].astype(int)\n",
    "\n",
    "calculate_distance = data_formatted[(data_formatted.flag_horizontal==1)]\n",
    "calculate_distance[['x_final', 'y_final', 'x_initial', 'y_initial']] = calculate_distance[['x_final', 'y_final', 'x_initial', 'y_initial']].apply(pd.to_numeric)\n",
    "calculate_distance = calculate_distance['x_final'] + calculate_distance['y_final'] - calculate_distance['x_initial'] - calculate_distance['y_initial']\n",
    "calculate_distance.abs().sum()"
   ]
  }
 ],
 "metadata": {
  "interpreter": {
   "hash": "a8f53c5b6845043763ef6777df71bcb212e938ce24e1b3fc040b000f7fcdcee1"
  },
  "kernelspec": {
   "display_name": "Python 3.9.4 64-bit ('env': venv)",
   "language": "python",
   "name": "python3"
  },
  "language_info": {
   "codemirror_mode": {
    "name": "ipython",
    "version": 3
   },
   "file_extension": ".py",
   "mimetype": "text/x-python",
   "name": "python",
   "nbconvert_exporter": "python",
   "pygments_lexer": "ipython3",
   "version": "3.9.4"
  },
  "orig_nbformat": 4
 },
 "nbformat": 4,
 "nbformat_minor": 2
}
