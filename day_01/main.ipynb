{
 "cells": [
  {
   "cell_type": "code",
   "execution_count": 1,
   "metadata": {},
   "outputs": [],
   "source": [
    "import numpy as np\n",
    "import pandas as pd"
   ]
  },
  {
   "cell_type": "markdown",
   "metadata": {},
   "source": [
    "## Part One"
   ]
  },
  {
   "cell_type": "code",
   "execution_count": null,
   "metadata": {},
   "outputs": [],
   "source": [
    "def count_increasing_data(data):\n",
    "    data_difference = np.diff(data)\n",
    "\n",
    "    data_difference_df = pd.DataFrame(data_difference)\n",
    "    data_difference_df = data_difference_df.rename(columns={0:'change'})\n",
    "\n",
    "    data_increasing = data_difference_df[(data_difference_df.change > 0)]\n",
    "    \n",
    "    return data_increasing.count()\n",
    "\n",
    "data = np.genfromtxt('data.csv', delimiter='')\n",
    "\n",
    "count_increasing_data(data)"
   ]
  },
  {
   "cell_type": "markdown",
   "metadata": {},
   "source": [
    "## Part Two"
   ]
  },
  {
   "cell_type": "code",
   "execution_count": null,
   "metadata": {},
   "outputs": [],
   "source": [
    "def sum_three_measurement_window(data):\n",
    "    data_three_measurement_window = np.convolve(data, np.ones(3, dtype=int), 'valid')\n",
    "    return data_three_measurement_window\n",
    "\n",
    "data = np.genfromtxt('data.csv', delimiter='')\n",
    "data_three_measurement_window = sum_three_measurement_window(data)\n",
    "count_increasing_data(data_three_measurement_window)"
   ]
  }
 ],
 "metadata": {
  "interpreter": {
   "hash": "949777d72b0d2535278d3dc13498b2535136f6dfe0678499012e853ee9abcab1"
  },
  "kernelspec": {
   "display_name": "Python 3.9.4 64-bit",
   "language": "python",
   "name": "python3"
  },
  "language_info": {
   "codemirror_mode": {
    "name": "ipython",
    "version": 3
   },
   "file_extension": ".py",
   "mimetype": "text/x-python",
   "name": "python",
   "nbconvert_exporter": "python",
   "pygments_lexer": "ipython3",
   "version": "3.9.4"
  },
  "orig_nbformat": 4
 },
 "nbformat": 4,
 "nbformat_minor": 2
}
