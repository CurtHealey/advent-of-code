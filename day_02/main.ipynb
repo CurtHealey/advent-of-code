{
 "cells": [
  {
   "cell_type": "code",
   "execution_count": 35,
   "metadata": {},
   "outputs": [
    {
     "name": "stdout",
     "output_type": "stream",
     "text": [
      "1507611\n"
     ]
    }
   ],
   "source": [
    "import numpy as np\n",
    "import pandas as pd\n",
    "\n",
    "data = pd.read_csv('data.csv', sep='\\s+')\n",
    "data.loc[data.direction=='up', 'number'] = data.loc[data.direction=='up', 'number']*-1\n",
    "\n",
    "xaxis = int(data[(data.direction=='forward')].sum()['number'])\n",
    "yaxis = int(data[(data.direction!='forward')].sum()['number'])\n",
    "\n",
    "print(xaxis*yaxis)"
   ]
  },
  {
   "cell_type": "code",
   "execution_count": 53,
   "metadata": {},
   "outputs": [
    {
     "name": "stdout",
     "output_type": "stream",
     "text": [
      "1880593125\n"
     ]
    }
   ],
   "source": [
    "import numpy as np\n",
    "import pandas as pd\n",
    "\n",
    "data = pd.read_csv('data.csv', sep='\\s+')\n",
    "data.loc[data.direction=='up', 'number'] = data.loc[data.direction=='up', 'number']*-1\n",
    "\n",
    "xaxis = int(data[(data.direction=='forward')].sum()['number'])\n",
    "aim=0\n",
    "depth=0\n",
    "\n",
    "\n",
    "for i in range(len(data)):\n",
    "    if data.iloc[i, 0] == 'up':\n",
    "       aim += data.iloc[i, 1]\n",
    "\n",
    "    if data.iloc[i, 0] == 'down':\n",
    "\n",
    "       aim += data.iloc[i, 1]\n",
    "\n",
    "    if data.iloc[i, 0] == 'forward':\n",
    "\n",
    "       depth = depth + aim*data.iloc[i, 1] \n",
    "\n",
    "print(depth*xaxis)\n"
   ]
  }
 ],
 "metadata": {
  "interpreter": {
   "hash": "949777d72b0d2535278d3dc13498b2535136f6dfe0678499012e853ee9abcab1"
  },
  "kernelspec": {
   "display_name": "Python 3.9.4 64-bit",
   "language": "python",
   "name": "python3"
  },
  "language_info": {
   "codemirror_mode": {
    "name": "ipython",
    "version": 3
   },
   "file_extension": ".py",
   "mimetype": "text/x-python",
   "name": "python",
   "nbconvert_exporter": "python",
   "pygments_lexer": "ipython3",
   "version": "3.9.4"
  },
  "orig_nbformat": 4
 },
 "nbformat": 4,
 "nbformat_minor": 2
}
